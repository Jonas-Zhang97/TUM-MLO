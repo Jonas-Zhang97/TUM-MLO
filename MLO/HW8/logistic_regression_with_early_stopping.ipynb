{
 "cells": [
  {
   "cell_type": "code",
   "execution_count": null,
   "metadata": {},
   "outputs": [],
   "source": [
    "import torch\n",
    "import torch.nn as nn\n",
    "import torchvision.transforms as transforms\n",
    "import torchvision.datasets as dsets\n",
    "import numpy as np\n",
    "import matplotlib.pyplot as plt"
   ]
  },
  {
   "cell_type": "code",
   "execution_count": null,
   "metadata": {},
   "outputs": [],
   "source": [
    "train_dataset = dsets.MNIST(root='./data', \n",
    "                            train=True, \n",
    "                            transform=transforms.ToTensor(),\n",
    "                            download=True)\n",
    "test_dataset = dsets.MNIST(root='./data', \n",
    "                           train=False, \n",
    "                           transform=transforms.ToTensor())"
   ]
  },
  {
   "cell_type": "markdown",
   "metadata": {},
   "source": [
    "Create training and test set with 500 examples of classes 5 and 8 respectively and change labels to 0 and 1. At the same time flip 30% of the labels."
   ]
  },
  {
   "cell_type": "code",
   "execution_count": null,
   "metadata": {},
   "outputs": [],
   "source": [
    "train_set = [ex for ex in train_dataset if ex[1]==5][:500] + [ex for ex in train_dataset if ex[1]==8][:500]\n",
    "test_set = [ex for ex in test_dataset if ex[1]==5][:500] + [ex for ex in test_dataset if ex[1]==8][:500]"
   ]
  },
  {
   "cell_type": "code",
   "execution_count": null,
   "metadata": {},
   "outputs": [],
   "source": [
    "train_set_01_images = []\n",
    "test_set_01_images = []\n",
    "train_set_01_labels = []\n",
    "test_set_01_labels = []\n",
    "num_flips = 500//3 #num_flips=0 to have no flips\n",
    "for i,ex_tr in enumerate(train_set):\n",
    "    ex_tr = list(ex_tr)\n",
    "    if ex_tr[1]==5:\n",
    "        if i<num_flips:\n",
    "            ex_tr[1]=1\n",
    "        else: \n",
    "            ex_tr[1]=0\n",
    "    else: \n",
    "        if i<num_flips+500:\n",
    "            ex_tr[1]=0\n",
    "        else: \n",
    "            ex_tr[1]=1\n",
    "    train_set_01_images.append(ex_tr[0])\n",
    "    train_set_01_labels.append(ex_tr[1])\n",
    "    \n",
    "for ex_te in test_set:\n",
    "    ex_te = list(ex_te)\n",
    "    if ex_te[1]==5:\n",
    "        ex_te[1]=0\n",
    "    else: \n",
    "        ex_te[1]=1\n",
    "    test_set_01_images.append(ex_te[0])\n",
    "    test_set_01_labels.append(ex_te[1])    \n",
    "    \n",
    "train_set_01_images = torch.stack(train_set_01_images)\n",
    "train_set_01_images = train_set_01_images.view(-1, 28*28)\n",
    "test_set_01_images = torch.stack(test_set_01_images)\n",
    "test_set_01_images = test_set_01_images.view(-1, 28*28)\n",
    "train_set_01_labels = torch.tensor(train_set_01_labels)\n",
    "test_set_01_labels = torch.tensor(test_set_01_labels)\n",
    "\n",
    "# shuffle training set\n",
    "n_sample = len(train_set_01_images)\n",
    "np.random.seed(0)\n",
    "order = np.random.permutation(n_sample)\n",
    "train_set_01_images = train_set_01_images[order]\n",
    "train_set_01_labels = train_set_01_labels[order]"
   ]
  },
  {
   "cell_type": "code",
   "execution_count": null,
   "metadata": {},
   "outputs": [],
   "source": [
    "print(\"size train set:\", train_set_01_images.shape) \n",
    "print(\"size test set:\", test_set_01_images.shape)"
   ]
  },
  {
   "cell_type": "code",
   "execution_count": null,
   "metadata": {},
   "outputs": [],
   "source": []
  }
 ],
 "metadata": {
  "kernelspec": {
   "display_name": "Python 3",
   "language": "python",
   "name": "python3"
  },
  "language_info": {
   "codemirror_mode": {
    "name": "ipython",
    "version": 3
   },
   "file_extension": ".py",
   "mimetype": "text/x-python",
   "name": "python",
   "nbconvert_exporter": "python",
   "pygments_lexer": "ipython3",
   "version": "3.8.8"
  }
 },
 "nbformat": 4,
 "nbformat_minor": 2
}
