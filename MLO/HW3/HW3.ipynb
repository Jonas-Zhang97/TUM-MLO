{
 "cells": [
  {
   "cell_type": "markdown",
   "metadata": {},
   "source": [
    "# Homework 3\n",
    "\n",
    "## Problem 1\n",
    "\n",
    "It could be the case that just by chance, the generated validation set correspondes perfectly to the trained model, meaning that the validation didn't represent the true performance of the model.\n",
    "\n",
    "## Problem 2\n",
    "\n",
    "According to the lecture note we have\n",
    "\n",
    "$$\n",
    "\\text{P} \\left[ \\underset{k=1,\\cdots,K}{\\text{max}} \\left| \\hat{R} \\left(h_k, \\mathcal{D}_{val} \\right) - R\\left( h_K \\right) \\right| \\le O\\left( \\sqrt{\\frac{\\text{log} \\left( K / \\delta \\right)}{\\left| \\mathcal{D}_{val} \\right|}} \\right) \\right] \\ge 1- \\delta ,\n",
    "$$\n",
    "\n",
    "to correctly chose a $k$ without runging into problem, we can look at the term\n",
    "\n",
    "$$\n",
    "\\sqrt{\\frac{\\text{log} \\left( K / \\delta \\right)}{\\left| \\mathcal{D}_{val} \\right|}},\n",
    "$$\n",
    "\n",
    "to obtain a validation error that gives a good estimate of the risk for all hyperparameter configurations, $\\text{log}(K)$ should be small relative to $\\left| \\mathcal{D}_{val} \\right|$, i.e.,\n",
    "\n",
    "$$\n",
    "\\text{log}(K) \\le \\left| \\mathcal{D}_{val} \\right| ~~~~~~ \\Rightarrow ~~~~~~ K \\le e^{\\left| \\mathcal{D}_{val} \\right|} .\n",
    "$$\n",
    "\n",
    "Let the $\\left| \\mathcal{D}_{val,small} \\right|$ for the small validation set be $a$ and therefore for the large validation set $\\left| \\mathcal{D}_{val,large} \\right| = 10 \\cdot a$. On the small validation set we can evaluate $e^a$ models and on the large validation set, $e^{10 \\cdot a}$ models can be tested.\n",
    "\n",
    "## Problem 3\n",
    "\n",
    "### 1.\n",
    "\n",
    "Some features have larger deviation because of their nature, and during the ridge regression, these variables will receive larger penalty, which makes them more \"important\" than they should be.\n",
    "\n",
    "By scaling the variables, the effect of different variables on the final model is normalized.\n",
    "\n",
    "### 2.\n",
    "\n",
    "We can define the feature vector as $\\mathbf{\\theta}_{\\text{ridge}} = \\left[\\theta_0, \\theta_1, \\cdots, \\theta_d \\right] = \\left[ \\theta_0, \\mathbf{\\theta} \\right] \\in \\mathbb{R}^{d+1}$. Together with the given definition of $\\tilde{\\mathbf{X}}$, we have traditional ridge regeression as follows:\n",
    "\n",
    "$$\n",
    "\\begin{alignat*}{2}\n",
    "  \\hat{\\mathbf{\\theta}}_{\\text{ridge}} &= \\text{arg} \\underset{\\mathbf{\\theta}_{\\text{ridge}}}{\\text{min}} \\left\\| \\mathbf{y} - \\tilde{\\mathbf{X}} \\mathbf{\\theta}_{\\text{ridge}} \\right\\|_2^2 + \\lambda \\left\\| \\mathbf{\\theta}_{\\text{ridge}} \\right\\|_2^2 \\\\\n",
    "  &= \\text{arg} \\underset{\\mathbf{\\theta}_{\\text{ridge}}}{\\text{min}} \\left\\| \\mathbf{y} - \\tilde{\\mathbf{X}} \\mathbf{\\theta}_{\\text{ridge}} \\right\\|_2^2 + \\lambda \\mathbf{\\theta}_{\\text{ridge}}^\\top \\mathbf{\\theta}_{\\text{ridge}}.\n",
    "\\end{alignat*}\n",
    "$$\n",
    "\n",
    "According to the task, $\\theta_0$ should not be considered for the penalty, to achieve this, we can multiply the penalty term with an identity, but starting with 0, denoted as $\\mathbf{A}$ i.e.,\n",
    "\n",
    "$$\n",
    "\\mathbf{A} = \\begin{bmatrix}\n",
    "0 &                         \\\\\n",
    "  & \\mathbf{I}_{N \\times N}\n",
    "\\end{bmatrix} \\in \\mathbb{R}^{N+1 \\times N+1},\n",
    "$$\n",
    "\n",
    "by doing this, the ridge regression problem can be rewritten as\n",
    "\n",
    "$$\n",
    "\\hat{\\mathbf{\\theta}}_{\\text{ridge}} = \\text{arg} \\underset{\\mathbf{\\theta}_{\\text{ridge}}}{\\text{min}} \\left\\| \\mathbf{y} - \\tilde{\\mathbf{X}} \\mathbf{\\theta}_{\\text{ridge}} \\right\\|_2^2 + \\lambda \\mathbf{\\theta}_{\\text{ridge}}^\\top \\mathbf{A} \\mathbf{\\theta}_{\\text{ridge}}.\n",
    "$$\n",
    "\n",
    "We can replace the identity term $\\mathbf{I}$ in closed-form solution of ridge regression with the newly defined $\\mathbf{A}$, leading to\n",
    "\n",
    "$$\n",
    "\\hat{\\mathbf{\\theta}}_{ridge} = \\left( \\mathbf{X}^{\\top} \\mathbf{X} + \\lambda \\mathbf{A} \\right)^{-1} \\mathbf{X}^{\\top} \\mathbf{y}\n",
    "$$\n",
    "\n",
    "### 3."
   ]
  },
  {
   "cell_type": "code",
   "execution_count": 65,
   "metadata": {},
   "outputs": [],
   "source": [
    "import csv\n",
    "import numpy as np\n",
    "from matplotlib import pyplot as plt\n",
    "from sklearn.preprocessing import StandardScaler\n",
    "from sklearn import linear_model as lm"
   ]
  },
  {
   "cell_type": "code",
   "execution_count": 66,
   "metadata": {},
   "outputs": [],
   "source": [
    "# X = np.loadtxt(\"hitters/hitters.x.csv\", delimiter = \",\", skiprows = 1)\n",
    "# \n",
    "# with open(\"hitters/hitters.x.csv\", \"r\") as f:\n",
    "#   features = next(csv.reader(f))\n",
    "# \n",
    "# y = np.loadtxt(\"hitters/hitters.y.csv\", delimiter = \",\", skiprows = 1)\n",
    "# \n",
    "# SS = StandardScaler()\n",
    "# X = SS.fit_transform(X)\n",
    "# X = np.hstack((np.ones([np.shape(X)[0],1]), X))"
   ]
  },
  {
   "cell_type": "code",
   "execution_count": 67,
   "metadata": {},
   "outputs": [
    {
     "data": {
      "image/png": "[encoded data removed]",
      "text/plain": [
       "<Figure size 640x480 with 1 Axes>"
      ]
     },
     "metadata": {},
     "output_type": "display_data"
    }
   ],
   "source": [
    "class Regression:\n",
    "  def __init__(self):\n",
    "    self.X = None\n",
    "    self.y = None\n",
    "    self.features = None\n",
    "\n",
    "  def load_data(self):\n",
    "    self.X = np.loadtxt(\"hitters/hitters.x.csv\", delimiter = \",\", skiprows = 1)\n",
    "\n",
    "    with open(\"hitters/hitters.x.csv\", \"r\") as f:\n",
    "      self.features = next(csv.reader(f))\n",
    "\n",
    "    self.y = np.loadtxt(\"hitters/hitters.y.csv\", delimiter = \",\", skiprows = 1)\n",
    "\n",
    "    # Preprocess data\n",
    "    SS = StandardScaler()\n",
    "    self.X = SS.fit_transform(self.X)\n",
    "\n",
    "    self.X = np.hstack((np.ones([np.shape(self.X)[0],1]), self.X))\n",
    "\n",
    "  def solveRidgeRegression(self, X, y, lam):\n",
    "    # Create A\n",
    "    col_X = np.shape(X)[1]\n",
    "    A = np.identity(col_X)\n",
    "    A[0, 0] = 0\n",
    "\n",
    "    # Close form solution according to previous task\n",
    "    theta = np.linalg.inv(np.dot(X.T, X) + lam * A) @ np.transpose(X) @ y\n",
    "\n",
    "    return theta\n",
    "  \n",
    "lam_array = np.logspace(-3, 7, 100)\n",
    "\n",
    "reg = Regression()\n",
    "reg.load_data()\n",
    "# Create theta array and its norm array\n",
    "theta_rr_array = np.zeros([np.shape(reg.X)[1], np.shape(lam_array)[0]])    # 20x100\n",
    "norm_theta_array = np.zeros([1, np.shape(theta_rr_array)[1]])             # 1x100\n",
    "\n",
    "# For every lambda, solve theta\n",
    "for i in range(0, np.shape(theta_rr_array)[1]):\n",
    "  # Perform Ridge Regression\n",
    "  theta_rr_array[:, i] = reg.solveRidgeRegression(reg.X, reg.y, lam_array[i])\n",
    "  # Calculate the norm of theta\n",
    "  # Note: the first array is excluded, which represents the bias term\n",
    "  norm_theta_array[0, i] = np.sqrt(np.sum(theta_rr_array[1: , i] ** 2))\n",
    "\n",
    "plt.loglog(lam_array, norm_theta_array[0, :])\n",
    "plt.xlabel(\"$\\lambda$\")\n",
    "plt.ylabel(\"Norm Penalties\")\n",
    "plt.title(\"Norm Penalties w.r.t. $\\lambda$\")\n",
    "plt.show()"
   ]
  },
  {
   "cell_type": "markdown",
   "metadata": {},
   "source": [
    "### 4.\n",
    "\n",
    "To compare the components between Least Square Regression and Ridge Regression, lets compute the Least Square Regression first."
   ]
  },
  {
   "cell_type": "code",
   "execution_count": 68,
   "metadata": {},
   "outputs": [],
   "source": [
    "class LSR(Regression):\n",
    "  def solve_LeastSquareRegression(self):\n",
    "    LinRe = lm.LinearRegression()\n",
    "    LinRe.fit(self.X, self.y)\n",
    "    return LinRe.coef_\n",
    "  \n",
    "lsr = LSR()\n",
    "lsr.load_data()\n",
    "theta_lsr = lsr.solve_LeastSquareRegression()"
   ]
  },
  {
   "cell_type": "markdown",
   "metadata": {},
   "source": [
    "And then, print the $\\mathbf{\\theta}$ vector of Ridge Regressio with the smallest $\\lambda$, and print the $\\mathbf{\\theta}$ vector of Least Square Regression"
   ]
  },
  {
   "cell_type": "code",
   "execution_count": 69,
   "metadata": {},
   "outputs": [
    {
     "name": "stdout",
     "output_type": "stream",
     "text": [
      "Ridge Regression\n",
      "[ 535.92584411 -291.07689885  337.76983981   37.817637    -60.51643708\n",
      "  -26.96167438  135.05922913  -16.72927386 -390.81338172   86.882135\n",
      "  -14.05166346  480.42919877  260.45660149 -213.84040958   31.24937094\n",
      "  -58.4169906    78.76124192   53.72488332  -22.16403075  -12.35251465]\n",
      "Least Square Regression\n",
      "[   0.         -291.09462584  337.83057573   37.85384355  -60.57253276\n",
      "  -26.99496538  135.07394623  -16.69329665 -391.03867469   86.68713265\n",
      "  -14.18188514  480.74772158  260.69007975 -213.8924465    31.24874897\n",
      "  -58.41399362   78.76122932   53.73244107  -22.16080176  -12.34882979]\n"
     ]
    }
   ],
   "source": [
    "print(\"Ridge Regression\")\n",
    "print(theta_rr_array[:, 0])\n",
    "print(\"Least Square Regression\")\n",
    "print(theta_lsr)"
   ]
  },
  {
   "cell_type": "markdown",
   "metadata": {},
   "source": [
    "It can be seen that except the first term, the rest coeffecient is almost the same. This can also be shown with the subtraction of $\\hat{\\mathbf{\\theta}}_{ls}$ and $\\hat{\\mathbf{\\theta}}_{ridge}$:"
   ]
  },
  {
   "cell_type": "code",
   "execution_count": 70,
   "metadata": {},
   "outputs": [
    {
     "name": "stdout",
     "output_type": "stream",
     "text": [
      "[ 5.35925844e+02  1.77269975e-02 -6.07359232e-02 -3.62065513e-02\n",
      "  5.60956785e-02  3.32910000e-02 -1.47171011e-02 -3.59772123e-02\n",
      "  2.25292967e-01  1.95002344e-01  1.30221672e-01 -3.18522812e-01\n",
      " -2.33478259e-01  5.20369133e-02  6.21975491e-04 -2.99697362e-03\n",
      "  1.26048117e-05 -7.55775105e-03 -3.22899183e-03 -3.68485864e-03]\n"
     ]
    }
   ],
   "source": [
    "print(theta_rr_array[:, 0] - theta_lsr)"
   ]
  },
  {
   "cell_type": "markdown",
   "metadata": {},
   "source": [
    "it gives us a vector with all entries close to 0 except the bias term, so when $\\lambda$ is very small, the results are pretty much the same. \n",
    "\n",
    "To further check how the coefficients change when $\\lambda$ is getting larger, we can plot every coeffecient w.r.t. $\\lambda$"
   ]
  },
  {
   "cell_type": "code",
   "execution_count": 71,
   "metadata": {},
   "outputs": [
    {
     "data": {
      "image/png": "[encoded data removed]",
      "text/plain": [
       "<Figure size 640x480 with 1 Axes>"
      ]
     },
     "metadata": {},
     "output_type": "display_data"
    }
   ],
   "source": [
    "for i in range(0, theta_rr_array.shape[0]):\n",
    "    plt.semilogx(lam_array, theta_rr_array[i, :])"
   ]
  },
  {
   "cell_type": "markdown",
   "metadata": {},
   "source": [
    "### 5."
   ]
  },
  {
   "cell_type": "code",
   "execution_count": 83,
   "metadata": {},
   "outputs": [
    {
     "name": "stdout",
     "output_type": "stream",
     "text": [
      "0\n",
      "1\n",
      "2\n",
      "3\n",
      "4\n",
      "5\n",
      "6\n",
      "7\n",
      "8\n",
      "9\n",
      "10\n",
      "11\n",
      "12\n",
      "13\n",
      "14\n",
      "15\n",
      "16\n",
      "17\n",
      "18\n",
      "19\n",
      "20\n",
      "21\n",
      "22\n",
      "23\n",
      "24\n",
      "25\n",
      "26\n",
      "27\n",
      "28\n",
      "29\n",
      "30\n",
      "31\n",
      "32\n",
      "33\n",
      "34\n",
      "35\n",
      "36\n",
      "37\n",
      "38\n",
      "39\n",
      "40\n",
      "41\n",
      "42\n",
      "43\n",
      "44\n",
      "45\n",
      "46\n",
      "47\n",
      "48\n",
      "49\n",
      "50\n",
      "51\n",
      "52\n",
      "53\n",
      "54\n",
      "55\n",
      "56\n",
      "57\n",
      "58\n",
      "59\n",
      "60\n",
      "61\n",
      "62\n",
      "63\n",
      "64\n",
      "65\n",
      "66\n",
      "67\n",
      "68\n",
      "69\n",
      "70\n",
      "71\n",
      "72\n",
      "73\n",
      "74\n",
      "75\n",
      "76\n",
      "77\n",
      "78\n",
      "79\n",
      "80\n",
      "81\n",
      "82\n",
      "83\n",
      "84\n",
      "85\n",
      "86\n",
      "87\n",
      "88\n",
      "89\n",
      "90\n",
      "91\n",
      "92\n",
      "93\n",
      "94\n",
      "95\n",
      "96\n",
      "97\n",
      "98\n",
      "99\n"
     ]
    }
   ],
   "source": [
    "class KFoldCrossValidation(Regression):\n",
    "  \n",
    "  def __init__(self, K, hyperparameters):\n",
    "    self.K = K\n",
    "    self.lam_array = hyperparameters\n",
    "\n",
    "  def folds_gen(self):\n",
    "    self.fold_size = self.X.shape[0] // self.K\n",
    "    \n",
    "    self.folds_X = np.zeros([self.K, self.fold_size, self.X.shape[1]])\n",
    "    self.folds_y = np.zeros([self.K, self.fold_size])\n",
    "    \n",
    "    for i in range(0, self.K):\n",
    "      random_indices = np.random.choice(self.X.shape[0], self.fold_size, replace = False)\n",
    "      \n",
    "      self.folds_X[i, :, :] = self.X[random_indices]\n",
    "      self.folds_y[i,:] = self.y[random_indices]\n",
    "  \n",
    "  # Assign training set and test sets\n",
    "  def folds_assignment(self, n):\n",
    "    self.X_train = self.folds_X[n, :, :]\n",
    "    self.y_train = self.folds_y[n, :]\n",
    "\n",
    "    self.test_index = []\n",
    "    for i in range(self.K):\n",
    "      if i != n:\n",
    "        self.test_index.append(i)\n",
    "\n",
    "    self.X_test = self.folds_X[self.test_index, :, :]\n",
    "    self.y_test = self.folds_y[self.test_index, :]\n",
    "  \n",
    "KFCV = KFoldCrossValidation(5, lam_array)\n",
    "KFCV.load_data()\n",
    "KFCV.folds_gen()"
   ]
  }
 ],
 "metadata": {
  "kernelspec": {
   "display_name": "Python 3",
   "language": "python",
   "name": "python3"
  },
  "language_info": {
   "codemirror_mode": {
    "name": "ipython",
    "version": 3
   },
   "file_extension": ".py",
   "mimetype": "text/x-python",
   "name": "python",
   "nbconvert_exporter": "python",
   "pygments_lexer": "ipython3",
   "version": "3.8.10"
  }
 },
 "nbformat": 4,
 "nbformat_minor": 2
}
