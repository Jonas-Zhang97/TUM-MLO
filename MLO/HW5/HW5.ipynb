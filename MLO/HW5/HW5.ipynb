{
 "cells": [
  {
   "cell_type": "markdown",
   "metadata": {},
   "source": [
    "# Homework 5"
   ]
  },
  {
   "cell_type": "markdown",
   "metadata": {},
   "source": [
    "## Problem 1"
   ]
  },
  {
   "cell_type": "markdown",
   "metadata": {},
   "source": [
    "### (a)\n",
    "\n",
    "If we adding an offset to the dataset, the dataset should still be linealy separable, so the hard-margin SVM can still find a solution."
   ]
  },
  {
   "cell_type": "markdown",
   "metadata": {},
   "source": [
    "### (b)\n",
    "\n",
    "After a lower dimensional transformation, the data points are not necessarily remain linearly separable, so there is no guarantee that the hard-margin SVM finds a solution"
   ]
  },
  {
   "cell_type": "markdown",
   "metadata": {},
   "source": [
    "### (c)\n",
    "\n",
    "The heigh dimensional transformation might leads to a similar problem as subtask (b), if the newly introduced feature makes the data points not linearly separable anymore, SVM cannot then find a solution."
   ]
  },
  {
   "cell_type": "markdown",
   "metadata": {},
   "source": [
    "### (d)\n",
    "\n",
    "If we scaling all the features with a constant $\\alpha > 0$, the relative position of the data points remains the same, in such case, there will be a solution for hard-margin SVM"
   ]
  },
  {
   "cell_type": "markdown",
   "metadata": {},
   "source": [
    "## Problem 2"
   ]
  },
  {
   "cell_type": "markdown",
   "metadata": {},
   "source": []
  },
  {
   "cell_type": "markdown",
   "metadata": {},
   "source": [
    "## Problem 3"
   ]
  },
  {
   "cell_type": "markdown",
   "metadata": {},
   "source": [
    "### 1\n",
    "\n",
    "By definition, the sum of convex functions are also convex function. Therefore, in order to prove the convexity of the given empirical mean function, we just need to prove that $L(y_i, \\left \\langle \\mathbf{w}, \\mathbf{x}_i +b \\right \\rangle)$ is convex in $\\mathbf{\\theta} = [b~\\mathbf{w}]^\\top$.\n",
    "\n"
   ]
  }
 ],
 "metadata": {
  "language_info": {
   "name": "python"
  }
 },
 "nbformat": 4,
 "nbformat_minor": 2
}
