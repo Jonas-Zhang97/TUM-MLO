{
 "cells": [
  {
   "cell_type": "markdown",
   "metadata": {},
   "source": [
    "# Homework 9"
   ]
  },
  {
   "cell_type": "markdown",
   "metadata": {},
   "source": [
    "## Problem 1\n",
    "\n",
    "The corresponding figures are shown below\n",
    "\n",
    "![image](/home/yueyangzhang/Downloads/Screenshot)\n",
    "\n"
   ]
  },
  {
   "cell_type": "markdown",
   "metadata": {},
   "source": [
    "## Problem 2"
   ]
  },
  {
   "cell_type": "markdown",
   "metadata": {},
   "source": [
    "### 1\n",
    "\n",
    "In this setup we use hinge loss as loss function, which is a (non-strict) convex function. Additionally, the empirical risk is a linear transform of the sum of a bunch of convex functions, therefore the given empirical risk is also convex."
   ]
  },
  {
   "cell_type": "markdown",
   "metadata": {},
   "source": [
    "### 2\n",
    "\n",
    "The gradient depends on the value of $y \\left< \\mathbf{\\theta}, \\mathbf{x} \\right>$:\n",
    "\n",
    "1. If $y \\left< \\mathbf{\\theta}, \\mathbf{x} \\right> \\ge 1$, then the gradient $\\mathbf{g}(\\mathbf{\\theta}, \\mathbf{x}_i, y_i) = 0$.\n",
    "2. If $y \\left< \\mathbf{\\theta}, \\mathbf{x} \\right> < 1$, then its gradient w.r.t. is $\\mathbf{g}(\\mathbf{\\theta}, \\mathbf{x}_i, y_i) = y_i \\mathbf{x}_i$\n",
    "\n",
    "The expectation of $\\mathbf{g}(\\mathbf{\\theta}, \\mathbf{x}_i, y_i) = \\triangledown_\\mathbf{\\theta} l(\\mathbf{\\theta}, \\mathbf{x}_i, y_i)$ is given by\n",
    "$$\n",
    "\\begin{alignat*}{2}\n",
    "  \\mathbb{E}\\left[ \\mathbf{g}(\\mathbf{\\theta}, \\mathbf{x}_i, y_i) \\right] &= \\frac{1}{n}\\sum_{i = 1}^{n} \\triangledown_{\\mathbf{\\theta}}l(\\mathbf{\\theta}, \\mathbf{x}_i, y_i) \\\\\n",
    "  &= \\sum_{i = 1}^{n} \\frac{1}{n} \\triangledown_{\\mathbf{\\theta}}l(\\mathbf{\\theta}, \\mathbf{x}_i, y_i) \\\\\n",
    "  &= \\triangledown_\\mathbf{\\theta}\\hat{R}(\\mathbf{\\theta})\n",
    "\\end{alignat*}\n",
    "$$"
   ]
  },
  {
   "cell_type": "markdown",
   "metadata": {},
   "source": [
    "### 3\n",
    "\n",
    "The given condition can be interpreted as\n",
    "\n",
    "$$\n",
    "\\begin{alignat*}{2}\n",
    "P \\left[ \\hat{R}(\\mathbf{\\theta}^n) \\le \\epsilon_1 \\right] &\\ge 1 - \\delta_1 \\\\\n",
    "P \\left[ \\hat{R}(\\mathbf{\\theta}^n) \\ge \\epsilon_1 \\right] &\\le \\delta_1\n",
    "\\end{alignat*}\n",
    "$$\n",
    "\n",
    "and\n",
    "\n",
    "$$\n",
    "\\begin{alignat*}{2}\n",
    "P \\left[ \\underset{\\mathbf{\\theta}}{\\text{sup}} \\left(R(\\mathbf{\\theta}) - \\hat{R}(\\mathbf{\\theta})\\right) \\le \\epsilon_2 \\right] &\\ge 1 - \\delta_2 \\\\\n",
    "P \\left[ \\underset{\\mathbf{\\theta}}{\\text{sup}} \\left(R(\\mathbf{\\theta}) - \\hat{R}(\\mathbf{\\theta})\\right) \\ge \\epsilon_2 \\right] &\\le \\delta_2\n",
    "\\end{alignat*}\n",
    "$$\n",
    "\n",
    "The goal is to prove\n",
    "\n",
    "$$\n",
    "P \\left[ R(\\mathbf{\\theta}^n) \\le \\epsilon_1 + \\epsilon_2 \\right] \\ge 1 - (\\delta_1 + \\delta_2), \n",
    "$$\n",
    "\n",
    "this can be further converted into the proof of\n",
    "\n",
    "$$\n",
    "P \\left[ R(\\mathbf{\\theta}^n) \\ge \\epsilon_1 + \\epsilon_2 \\right] \\le (\\delta_1 + \\delta_2).\n",
    "$$\n",
    "\n",
    "and the left hand side of the inequalty can be interpreted as\n",
    "\n",
    "$$\n",
    "\\begin{alignat*}{2}\n",
    "P \\left[ R(\\mathbf{\\theta}^n) \\ge \\epsilon_1 + \\epsilon_2 \\right] &= P \\left[ \\hat{R}(\\mathbf{\\theta}^n) \\ge \\epsilon_1 ~ \\cup ~  \\underset{\\mathbf{\\theta}}{\\text{sup}} \\left(R(\\mathbf{\\theta}) - \\hat{R}(\\mathbf{\\theta})\\right) \\ge \\epsilon_2\\right] \\\\\n",
    "&= P \\left[ \\hat{R}(\\mathbf{\\theta}^n) \\ge \\epsilon_1 \\right] + P \\left[ \\underset{\\mathbf{\\theta}}{\\text{sup}} \\left(R(\\mathbf{\\theta}) - \\hat{R}(\\mathbf{\\theta})\\right) \\ge \\epsilon_2 \\right] \\\\\n",
    "& \\le \\delta_1 + \\delta_2.\n",
    "\\end{alignat*}\n",
    "$$\n",
    "\n",
    "Thus, the given equation is prooven."
   ]
  }
 ],
 "metadata": {
  "language_info": {
   "name": "python"
  }
 },
 "nbformat": 4,
 "nbformat_minor": 2
}
